{
 "cells": [
  {
   "cell_type": "markdown",
   "id": "5d7c6291-e465-4327-a11f-e48ddf1ae6aa",
   "metadata": {},
   "source": [
    "# Chapter 1: Xarra data structures and selection"
   ]
  },
  {
   "cell_type": "code",
   "execution_count": null,
   "id": "89a630a1-c50f-4e0e-8e9e-44d30e5b546d",
   "metadata": {},
   "outputs": [],
   "source": [
    "import xarray as xr\n",
    "import numpy as np"
   ]
  },
  {
   "cell_type": "code",
   "execution_count": null,
   "id": "eeaa226c-e1b3-4034-b653-d7ef9a1711cf",
   "metadata": {},
   "outputs": [],
   "source": [
    "# When working in a Jupyter Notebook you might want to customize Xarray display settings to your liking\n",
    "# The following settings reduce the amount of data displayed out by default\n",
    "xr.set_options(display_expand_attrs=False, display_expand_data=False)\n",
    "np.set_printoptions(threshold=10, edgeitems=2)"
   ]
  },
  {
   "cell_type": "markdown",
   "id": "ee475605-2d50-412c-92a3-0dcc4e33fe14",
   "metadata": {},
   "source": [
    "## Explain xarray data structures: xarray.DataArray and xarray.Dataset"
   ]
  },
  {
   "cell_type": "markdown",
   "id": "9e4c2af3-80eb-4731-8907-4ab9b899f40d",
   "metadata": {},
   "source": [
    "Xarray can be used to manipulate data in the form of multi-dimensional (a.k.a. N-dimensional, ND) arrays.  In Python, NumPy provides the fundamental data structure and API for working with raw ND arrays. However, real-world datasets are usually more than just raw numbers; they have labels which encode information about how the array values map to locations in space, time, etc."
   ]
  },
  {
   "attachments": {},
   "cell_type": "markdown",
   "id": "ab894397-41f4-469c-98eb-10ee5d0fa19a",
   "metadata": {},
   "source": [
    "<div style=\"background-color: rgb(200, 200, 200);\">\n",
    "    <img alt=\"Dataset structure\" src=\"images/dataset-diagram.png\" />\n",
    "</div>"
   ]
  },
  {
   "cell_type": "markdown",
   "id": "e27dbdc6-e158-4a69-9c0d-578920bd5dc1",
   "metadata": {},
   "source": [
    "### xarray.Dataset"
   ]
  },
  {
   "cell_type": "code",
   "execution_count": null,
   "id": "1c563b37-06fa-4ba5-92b2-48e0f9562c2c",
   "metadata": {},
   "outputs": [],
   "source": [
    "ds = xr.tutorial.load_dataset(\"air_temperature_gradient\")"
   ]
  },
  {
   "cell_type": "code",
   "execution_count": null,
   "id": "34f2060b-b33f-45f4-9bdd-f64aec889828",
   "metadata": {},
   "outputs": [],
   "source": [
    "type(ds)"
   ]
  },
  {
   "cell_type": "markdown",
   "id": "67f17a47-2afb-46ab-ba57-7c0b3155f0bd",
   "metadata": {},
   "source": [
    "See how `xarray.Dataset` is structured"
   ]
  },
  {
   "cell_type": "code",
   "execution_count": null,
   "id": "797899da-73ca-4c11-84bb-c5eff6a6a933",
   "metadata": {},
   "outputs": [],
   "source": [
    "ds"
   ]
  },
  {
   "cell_type": "markdown",
   "id": "d561eb88-c9f5-42df-877c-06948b64429f",
   "metadata": {},
   "source": [
    "A `xarray.DataArray` is composed of several data variables. Each data variables is a `xarray.DataArray`"
   ]
  },
  {
   "cell_type": "markdown",
   "id": "4dbfc32f-53de-49ba-9f96-61fef5b85c5d",
   "metadata": {},
   "source": [
    "### xarray.DataArray"
   ]
  },
  {
   "cell_type": "code",
   "execution_count": null,
   "id": "9f2d6311-3631-447d-bbfb-ed830b54c5b9",
   "metadata": {},
   "outputs": [],
   "source": [
    "da = ds[\"Tair\"]"
   ]
  },
  {
   "cell_type": "code",
   "execution_count": null,
   "id": "5500a3cb-8253-4907-959a-90194df2570e",
   "metadata": {},
   "outputs": [],
   "source": [
    "type(da)"
   ]
  },
  {
   "cell_type": "markdown",
   "id": "23682d58-c05f-4ae8-b54b-8ef19381a1e6",
   "metadata": {},
   "source": [
    "See how a `xarray.DataArray` is structured"
   ]
  },
  {
   "cell_type": "code",
   "execution_count": null,
   "id": "340b49b0-da33-44c7-b150-10d91319c815",
   "metadata": {},
   "outputs": [],
   "source": [
    "da"
   ]
  },
  {
   "cell_type": "markdown",
   "id": "7f2d4410-56bb-4ec0-96ce-40442a855e5a",
   "metadata": {},
   "source": [
    "## Select variables"
   ]
  },
  {
   "cell_type": "markdown",
   "id": "a5cb8042-5468-4e83-a256-f3fdffb1f454",
   "metadata": {},
   "source": [
    "The selection of data variables in a `xarray.Dataset` is similar to select columns in `pandas.DataFrame`."
   ]
  },
  {
   "cell_type": "markdown",
   "id": "8411189a-ecc3-499c-8829-9db40bd563d7",
   "metadata": {},
   "source": [
    "#### Select `Tair` variable"
   ]
  },
  {
   "cell_type": "code",
   "execution_count": null,
   "id": "49a97a0b-fcb2-4f40-904b-7bfb2e338045",
   "metadata": {},
   "outputs": [],
   "source": [
    "# TODO"
   ]
  },
  {
   "cell_type": "markdown",
   "id": "cec97f97-7d11-4aa0-ab72-38ecfd7624eb",
   "metadata": {},
   "source": [
    "#### Select `Tair` variable (but still get a xarray.Dataset)"
   ]
  },
  {
   "cell_type": "code",
   "execution_count": null,
   "id": "34494610-a52c-4496-9c56-68646b3024f2",
   "metadata": {},
   "outputs": [],
   "source": [
    "# TODO"
   ]
  },
  {
   "cell_type": "markdown",
   "id": "b0f915b6-5f7f-49d3-b208-6f277fe4ab0d",
   "metadata": {},
   "source": [
    "#### Select `dTdx` and `dTdy` variables"
   ]
  },
  {
   "cell_type": "code",
   "execution_count": null,
   "id": "a66cf9e1-c285-478b-b1bd-b07a9fad0150",
   "metadata": {},
   "outputs": [],
   "source": [
    "# TODO"
   ]
  },
  {
   "cell_type": "markdown",
   "id": "cdf4391e-dd6e-4204-9c52-b0966e7e3d57",
   "metadata": {},
   "source": [
    "## Selecting / Indexing"
   ]
  },
  {
   "cell_type": "markdown",
   "id": "4d44f7ee-b861-43d7-84c0-ad74e6f35a74",
   "metadata": {},
   "source": [
    "The selection is done by using `sel` method."
   ]
  },
  {
   "cell_type": "code",
   "execution_count": null,
   "id": "821ccbb4-2a12-4012-9a79-48fc65194a3b",
   "metadata": {},
   "outputs": [],
   "source": [
    "xr.Dataset.sel?"
   ]
  },
  {
   "cell_type": "markdown",
   "id": "29d1016c-5d09-44ee-af30-541bed73958c",
   "metadata": {},
   "source": [
    "### Select time"
   ]
  },
  {
   "cell_type": "markdown",
   "id": "9734a35b-eb56-428b-aebd-7abab2731832",
   "metadata": {},
   "source": [
    "Select a specific datetime"
   ]
  },
  {
   "cell_type": "code",
   "execution_count": null,
   "id": "0aad29e4-4c94-4fef-9fe1-6e7788695e87",
   "metadata": {},
   "outputs": [],
   "source": [
    "# TODO"
   ]
  },
  {
   "cell_type": "markdown",
   "id": "e8609e2e-d8ad-4e82-8b5a-5d2fbc0d2ea0",
   "metadata": {},
   "source": [
    "Select a specific day"
   ]
  },
  {
   "cell_type": "code",
   "execution_count": null,
   "id": "f2250cf5-7e5b-4da3-ad74-28945969bb01",
   "metadata": {},
   "outputs": [],
   "source": [
    "# TODO"
   ]
  },
  {
   "cell_type": "markdown",
   "id": "b21cf803-c4fe-442d-9ba7-dc329dc42f68",
   "metadata": {},
   "source": [
    "Select a specific point (lat=70, lon=210)"
   ]
  },
  {
   "cell_type": "code",
   "execution_count": null,
   "id": "670735a3-d534-4385-a0ef-81ed1b4b0277",
   "metadata": {},
   "outputs": [],
   "source": [
    "# TODO"
   ]
  },
  {
   "cell_type": "markdown",
   "id": "6203b45c-a53c-4072-a24d-81d4f6b57baa",
   "metadata": {},
   "source": [
    "Select into a box (use `slice`)"
   ]
  },
  {
   "cell_type": "code",
   "execution_count": null,
   "id": "ce1f7fcd-30ae-4d8b-a9ea-47b35e996467",
   "metadata": {},
   "outputs": [],
   "source": [
    "# TODO"
   ]
  },
  {
   "cell_type": "markdown",
   "id": "505bb963-2753-4577-b2d2-241ccc3cd9de",
   "metadata": {},
   "source": [
    "The point (lat=18.3,lon=233.3) does not belong to the dataset but you can use `method=\"nearest\"` to look up to the neighbors."
   ]
  },
  {
   "cell_type": "code",
   "execution_count": null,
   "id": "7d14454e-5a71-485a-a04b-1d0164b47ecc",
   "metadata": {},
   "outputs": [],
   "source": [
    "# TODO"
   ]
  },
  {
   "cell_type": "markdown",
   "id": "66eb931b-42d4-4c15-b278-0ddf9af13c53",
   "metadata": {},
   "source": [
    "## Plot"
   ]
  },
  {
   "cell_type": "markdown",
   "id": "016bff6e-9be4-4f57-a947-907068e9369a",
   "metadata": {},
   "source": [
    "You can use `plot` method to plot data"
   ]
  },
  {
   "cell_type": "markdown",
   "id": "b74224de-d61b-4ca2-8f97-d8bc54cb5a6c",
   "metadata": {},
   "source": [
    "Select a sepecific day and plot the air temperature."
   ]
  },
  {
   "cell_type": "code",
   "execution_count": null,
   "id": "965a3e45-51e5-41f5-954f-14d65076557b",
   "metadata": {},
   "outputs": [],
   "source": [
    "# TODO"
   ]
  },
  {
   "cell_type": "markdown",
   "id": "718bc246-912e-45bf-8508-1f77298d3a3d",
   "metadata": {},
   "source": [
    "Select a sepecific point and plot the air temperature."
   ]
  },
  {
   "cell_type": "code",
   "execution_count": null,
   "id": "21b4c888-d022-4138-9ea7-6d2f7cadc1d3",
   "metadata": {},
   "outputs": [],
   "source": [
    "# TODO"
   ]
  },
  {
   "cell_type": "code",
   "execution_count": null,
   "id": "3fc2d4b7-0da5-4f33-85f8-bda84b602db0",
   "metadata": {},
   "outputs": [],
   "source": []
  }
 ],
 "metadata": {
  "kernelspec": {
   "display_name": "Python 3 (ipykernel)",
   "language": "python",
   "name": "python3"
  },
  "language_info": {
   "codemirror_mode": {
    "name": "ipython",
    "version": 3
   },
   "file_extension": ".py",
   "mimetype": "text/x-python",
   "name": "python",
   "nbconvert_exporter": "python",
   "pygments_lexer": "ipython3",
   "version": "3.12.9"
  }
 },
 "nbformat": 4,
 "nbformat_minor": 5
}
