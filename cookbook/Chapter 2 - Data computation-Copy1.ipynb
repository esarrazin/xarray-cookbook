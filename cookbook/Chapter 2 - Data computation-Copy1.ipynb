{
 "cells": [
  {
   "cell_type": "markdown",
   "id": "5d7c6291-e465-4327-a11f-e48ddf1ae6aa",
   "metadata": {},
   "source": [
    "# Chapter 2: Data computation"
   ]
  },
  {
   "cell_type": "code",
   "execution_count": null,
   "id": "89a630a1-c50f-4e0e-8e9e-44d30e5b546d",
   "metadata": {},
   "outputs": [],
   "source": [
    "import numpy as np\n",
    "import xarray as xr\n",
    "import matplotlib.pyplot as plt"
   ]
  },
  {
   "cell_type": "code",
   "execution_count": null,
   "id": "eeaa226c-e1b3-4034-b653-d7ef9a1711cf",
   "metadata": {},
   "outputs": [],
   "source": [
    "# When working in a Jupyter Notebook you might want to customize Xarray display settings to your liking\n",
    "# The following settings reduce the amount of data displayed out by default\n",
    "xr.set_options(display_expand_attrs=False, display_expand_data=False)\n",
    "np.set_printoptions(threshold=10, edgeitems=2)"
   ]
  },
  {
   "cell_type": "markdown",
   "id": "0bbacae9-f0fd-4766-86e6-334ac5ab6aa8",
   "metadata": {},
   "source": [
    "## Get data"
   ]
  },
  {
   "cell_type": "code",
   "execution_count": null,
   "id": "1c563b37-06fa-4ba5-92b2-48e0f9562c2c",
   "metadata": {},
   "outputs": [],
   "source": [
    "ds = xr.tutorial.load_dataset(\"ersstv5\")\n",
    "ds"
   ]
  },
  {
   "cell_type": "markdown",
   "id": "305af8da-ddaa-4c26-82d6-42fa7147ba0b",
   "metadata": {},
   "source": [
    "## Basic arithmetic operations"
   ]
  },
  {
   "cell_type": "markdown",
   "id": "76eaae20-f8e0-4623-89ee-a40a997c9d3c",
   "metadata": {},
   "source": [
    "Select the first datetime"
   ]
  },
  {
   "cell_type": "code",
   "execution_count": null,
   "id": "c4bda41b-94f8-473a-b29a-1fbdc8b4cfe6",
   "metadata": {},
   "outputs": [],
   "source": [
    "ds_t0 = ds.isel(time=0)"
   ]
  },
  {
   "cell_type": "code",
   "execution_count": null,
   "id": "e79d64b0-4aea-4e86-8a5d-fc8b426cbc79",
   "metadata": {},
   "outputs": [],
   "source": [
    "ds_t0"
   ]
  },
  {
   "cell_type": "code",
   "execution_count": null,
   "id": "69d41d0f-950c-46a0-a29e-e0db16e9b162",
   "metadata": {},
   "outputs": [],
   "source": [
    "ds_t0.sst.plot(vmin=-2, vmax=30)"
   ]
  },
  {
   "cell_type": "markdown",
   "id": "b46933a9-4b30-4774-94a1-20d02f21ee3e",
   "metadata": {},
   "source": [
    "The air temperature is given in Kelvin degre. Try to convert it in Celsius (https://en.wikipedia.org/wiki/Conversion_of_scales_of_temperature#Comparison_of_temperature_scales)"
   ]
  },
  {
   "cell_type": "code",
   "execution_count": null,
   "id": "e8391418-7c50-4245-a457-764de9f320a5",
   "metadata": {},
   "outputs": [],
   "source": [
    "# TODO"
   ]
  },
  {
   "cell_type": "markdown",
   "id": "b26db3fb-3965-4a4d-8ede-aa6a07f3241e",
   "metadata": {},
   "source": [
    "Plot in Kelvin"
   ]
  },
  {
   "cell_type": "code",
   "execution_count": null,
   "id": "dae51b37-9404-4b0c-a05d-9836fc5d1a26",
   "metadata": {},
   "outputs": [],
   "source": [
    "# TODO"
   ]
  },
  {
   "cell_type": "markdown",
   "id": "33bf85c4-f092-4f64-8bd8-000becf1bed7",
   "metadata": {},
   "source": [
    "It is possible to apply more complex functions. Try to apply the function function $10 \\times log(SST^2)$ to SST in Kelvin."
   ]
  },
  {
   "cell_type": "code",
   "execution_count": null,
   "id": "6c253d8c-4664-4039-b9b3-e0c65897051d",
   "metadata": {},
   "outputs": [],
   "source": [
    "# TODO"
   ]
  },
  {
   "cell_type": "markdown",
   "id": "fc107f80-e6a2-4b8c-b092-03bbbd660826",
   "metadata": {},
   "source": [
    "### Reduction operations"
   ]
  },
  {
   "cell_type": "markdown",
   "id": "c5a269eb-bdb1-4041-8015-0db89a77b706",
   "metadata": {},
   "source": [
    "Reductions are functions that reduce the dimensionlity of a dataset. \n",
    "Try to compute the mean of sea surface temperature along. You will obtain a 2D array and then plot it."
   ]
  },
  {
   "cell_type": "code",
   "execution_count": null,
   "id": "aca08843-4a99-4ed3-a4fc-111bc7d36d9a",
   "metadata": {},
   "outputs": [],
   "source": [
    "# TODO"
   ]
  },
  {
   "cell_type": "markdown",
   "id": "2350de8f-4c89-48bc-b864-f34194e8bd69",
   "metadata": {},
   "source": [
    "### Computation with groupby"
   ]
  },
  {
   "cell_type": "markdown",
   "id": "469ff32c-06a9-491e-a67a-e640410fa5d5",
   "metadata": {},
   "source": [
    "First, extract the data on a specific point (lat=20, lon=200)"
   ]
  },
  {
   "cell_type": "code",
   "execution_count": null,
   "id": "fb7f871d-b43c-4438-b1d0-6ec5bb59a159",
   "metadata": {},
   "outputs": [],
   "source": [
    "da = ds.sst.sel(lat=20,lon=200)\n",
    "da"
   ]
  },
  {
   "cell_type": "markdown",
   "id": "17b243d2-3200-42b6-9335-00df25eef65c",
   "metadata": {},
   "source": [
    "Plot the data"
   ]
  },
  {
   "cell_type": "code",
   "execution_count": null,
   "id": "2e402822-d364-4d08-ad62-36dbc1e56a7f",
   "metadata": {},
   "outputs": [],
   "source": [
    "da.plot()"
   ]
  },
  {
   "cell_type": "markdown",
   "id": "9be92c2f-45fc-4225-83c7-c9a6e63b4fc5",
   "metadata": {},
   "source": [
    "Use the `groupby` method to group data. The `groupby` is similar as the `pandas.groupby` method."
   ]
  },
  {
   "cell_type": "code",
   "execution_count": null,
   "id": "ccf8295f-666d-48de-a399-3cc3d010cff7",
   "metadata": {},
   "outputs": [],
   "source": [
    "?xr.DataArray.groupby"
   ]
  },
  {
   "cell_type": "markdown",
   "id": "54c710d8-60a4-4110-8f00-f6e5d66335b1",
   "metadata": {},
   "source": [
    "Try to group data by month (using \"time.month\")"
   ]
  },
  {
   "cell_type": "code",
   "execution_count": null,
   "id": "d5ae2684-7f64-43ce-bb64-ac7a65dd61e0",
   "metadata": {},
   "outputs": [],
   "source": [
    "# TODO"
   ]
  },
  {
   "cell_type": "markdown",
   "id": "6ca033a4-c3b5-4c1f-9261-d7f1fe061a54",
   "metadata": {},
   "source": [
    "Try to compute the mean of temperature by month and then plot it."
   ]
  },
  {
   "cell_type": "code",
   "execution_count": null,
   "id": "5d286cca-199d-47d6-81cd-9f09037cb43f",
   "metadata": {},
   "outputs": [],
   "source": [
    "# TODO"
   ]
  },
  {
   "cell_type": "markdown",
   "id": "70024740-238f-407a-8449-c4174cbf2a46",
   "metadata": {},
   "source": [
    "## Computation with a rolling window"
   ]
  },
  {
   "cell_type": "markdown",
   "id": "3e7c0e46-29b2-4337-9faa-b6cd9e49c5a7",
   "metadata": {},
   "source": [
    "Use the data on a specific point (lat=20,lon=200)"
   ]
  },
  {
   "cell_type": "code",
   "execution_count": null,
   "id": "bdddcd21-f404-4c40-ac32-0a9409531e81",
   "metadata": {},
   "outputs": [],
   "source": [
    "da = ds.sst.sel(lat=20,lon=200)\n",
    "da"
   ]
  },
  {
   "cell_type": "markdown",
   "id": "c65f5b2e-0490-4bed-aeed-451ddf7fd747",
   "metadata": {},
   "source": [
    "In this DataArray, there is one data per month."
   ]
  },
  {
   "cell_type": "markdown",
   "id": "19ac059f-103f-476d-be9d-4289ef7695b6",
   "metadata": {},
   "source": [
    "Define a rolling window of 12 months. Use `xarray.DataArray.rolling`"
   ]
  },
  {
   "cell_type": "code",
   "execution_count": null,
   "id": "077f1de6-4a5d-4cdf-91d1-d7d53890d8a1",
   "metadata": {},
   "outputs": [],
   "source": [
    "?xr.DataArray.rolling"
   ]
  },
  {
   "cell_type": "code",
   "execution_count": null,
   "id": "43202007-7712-478e-a75b-cdf2081c97fa",
   "metadata": {},
   "outputs": [],
   "source": [
    "# TODO"
   ]
  },
  {
   "cell_type": "markdown",
   "id": "fee24964-9c53-406c-85e0-c87091357dba",
   "metadata": {},
   "source": [
    "Compute the mean in each window"
   ]
  },
  {
   "cell_type": "code",
   "execution_count": null,
   "id": "510b6cd4-3505-4cdf-b1e0-d052b1b52bdf",
   "metadata": {},
   "outputs": [],
   "source": [
    "# TODO"
   ]
  },
  {
   "cell_type": "markdown",
   "id": "bb2d21d5-f7ac-49ad-bc7e-9d4fd1290b20",
   "metadata": {},
   "source": [
    "Plot the data and the averaged data."
   ]
  },
  {
   "cell_type": "code",
   "execution_count": null,
   "id": "6154dffe-a703-4164-9b43-312c3da506be",
   "metadata": {},
   "outputs": [],
   "source": [
    "# TODO"
   ]
  },
  {
   "cell_type": "code",
   "execution_count": null,
   "id": "7f2a1230-02d0-4aea-89aa-0d28aaae9550",
   "metadata": {},
   "outputs": [],
   "source": []
  }
 ],
 "metadata": {
  "kernelspec": {
   "display_name": "Python 3 (ipykernel)",
   "language": "python",
   "name": "python3"
  },
  "language_info": {
   "codemirror_mode": {
    "name": "ipython",
    "version": 3
   },
   "file_extension": ".py",
   "mimetype": "text/x-python",
   "name": "python",
   "nbconvert_exporter": "python",
   "pygments_lexer": "ipython3",
   "version": "3.12.9"
  }
 },
 "nbformat": 4,
 "nbformat_minor": 5
}
