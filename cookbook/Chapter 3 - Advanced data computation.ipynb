{
 "cells": [
  {
   "cell_type": "markdown",
   "id": "5d7c6291-e465-4327-a11f-e48ddf1ae6aa",
   "metadata": {},
   "source": [
    "# Chapter 3: Advanced data computation"
   ]
  },
  {
   "cell_type": "code",
   "execution_count": null,
   "id": "89a630a1-c50f-4e0e-8e9e-44d30e5b546d",
   "metadata": {},
   "outputs": [],
   "source": [
    "import numpy as np\n",
    "import xarray as xr"
   ]
  },
  {
   "cell_type": "code",
   "execution_count": null,
   "id": "eeaa226c-e1b3-4034-b653-d7ef9a1711cf",
   "metadata": {},
   "outputs": [],
   "source": [
    "# When working in a Jupyter Notebook you might want to customize Xarray display settings to your liking\n",
    "# The following settings reduce the amount of data displayed out by default\n",
    "xr.set_options(display_expand_attrs=False, display_expand_data=False)\n",
    "np.set_printoptions(threshold=10, edgeitems=2)"
   ]
  },
  {
   "cell_type": "markdown",
   "id": "20e230fb-d68b-45a6-aba7-5a3d3677745a",
   "metadata": {},
   "source": [
    "## Get the data"
   ]
  },
  {
   "cell_type": "code",
   "execution_count": null,
   "id": "1c563b37-06fa-4ba5-92b2-48e0f9562c2c",
   "metadata": {},
   "outputs": [],
   "source": [
    "ds = xr.tutorial.load_dataset(\"air_temperature\")\n",
    "ds"
   ]
  },
  {
   "cell_type": "markdown",
   "id": "ea651fe2-bfaf-4b72-aa4c-a9cc69d6b71e",
   "metadata": {},
   "source": [
    "Let's select to different datetimes."
   ]
  },
  {
   "cell_type": "code",
   "execution_count": null,
   "id": "d5291435-7b51-4248-a590-6add7c55ebc7",
   "metadata": {},
   "outputs": [],
   "source": [
    "ds1 = ds.isel(time=200)"
   ]
  },
  {
   "cell_type": "code",
   "execution_count": null,
   "id": "a8a42213-b9d3-4176-bb57-fb3de9320253",
   "metadata": {},
   "outputs": [],
   "source": [
    "ds2 = ds.isel(time=2000)"
   ]
  },
  {
   "cell_type": "markdown",
   "id": "1ccbc891-90a6-4590-982c-03ba837cf430",
   "metadata": {},
   "source": [
    "## Use `apply_ufunc` method  "
   ]
  },
  {
   "cell_type": "markdown",
   "id": "b821befc-fd8b-4aaf-8753-5c391621b4ed",
   "metadata": {},
   "source": [
    "The `apply_ufunc` method is used to apply function."
   ]
  },
  {
   "cell_type": "code",
   "execution_count": null,
   "id": "58fe3b76-a54b-403a-bc5b-99d11e9c0f5f",
   "metadata": {},
   "outputs": [],
   "source": [
    "?xr.apply_ufunc"
   ]
  },
  {
   "cell_type": "markdown",
   "id": "4f1c0f3a-3ce4-4c56-a70f-9931175eaf1a",
   "metadata": {},
   "source": [
    "Let's define the diff function"
   ]
  },
  {
   "cell_type": "code",
   "execution_count": null,
   "id": "742a2a54-db69-4948-9b98-8a7adfe18fab",
   "metadata": {},
   "outputs": [],
   "source": [
    "def diff(x, y):\n",
    "    return x - y"
   ]
  },
  {
   "cell_type": "markdown",
   "id": "eefe5e45-ef83-4783-ac34-4398bc70da8c",
   "metadata": {},
   "source": [
    "Apply the function diff between `ds1` and `ds2`"
   ]
  },
  {
   "cell_type": "code",
   "execution_count": null,
   "id": "882eef41-bcff-482c-a086-6d4822a1611f",
   "metadata": {},
   "outputs": [],
   "source": [
    "# TODO"
   ]
  },
  {
   "cell_type": "markdown",
   "id": "df74e183-a60a-47f5-a3ea-f852028e00a5",
   "metadata": {},
   "source": [
    "Apply the function `diff` on `da1` with y=1. You can use \\kwargs to pass arguments to the function."
   ]
  },
  {
   "cell_type": "code",
   "execution_count": null,
   "id": "d335709d-9995-4eb2-900f-1c857afec068",
   "metadata": {},
   "outputs": [],
   "source": [
    "# TODO"
   ]
  },
  {
   "cell_type": "markdown",
   "id": "c27668b4-e521-4cad-a831-4587ac4e6d9e",
   "metadata": {},
   "source": [
    "## Use `apply_ufunc` method with dimension reduction"
   ]
  },
  {
   "cell_type": "markdown",
   "id": "4d905d4f-b6ff-4e91-be21-93c66f0909dc",
   "metadata": {},
   "source": [
    "Let's define a function to compute mean"
   ]
  },
  {
   "cell_type": "code",
   "execution_count": null,
   "id": "32f3b3ef-4f1a-4663-8925-304df62cbd49",
   "metadata": {},
   "outputs": [],
   "source": [
    "def wrapper(array, **kwargs):\n",
    "    print(f\"received {type(array)} shape: {array.shape}, kwargs: {kwargs}\")\n",
    "    result = np.mean(array, **kwargs)\n",
    "    print(f\"result.shape: {result.shape}\")\n",
    "    return result"
   ]
  },
  {
   "cell_type": "markdown",
   "id": "0ec2da8a-baa8-4fb6-8ea2-d89d2b9122f9",
   "metadata": {},
   "source": [
    "Mean performs a dimension reduction so the shape of dataset changes. Applying apply_ufunc is more complicated."
   ]
  },
  {
   "cell_type": "code",
   "execution_count": null,
   "id": "e5243cd7-80f0-46a6-8f81-3506b70baa82",
   "metadata": {},
   "outputs": [],
   "source": [
    "xr.apply_ufunc(\n",
    "    wrapper,\n",
    "    ds,\n",
    "    input_core_dims=[[\"time\"]],\n",
    "    kwargs={\"axis\": -1},\n",
    ")"
   ]
  },
  {
   "cell_type": "markdown",
   "id": "3b846642-865a-45da-b673-21122991f864",
   "metadata": {},
   "source": [
    "## Compute with masked data"
   ]
  },
  {
   "cell_type": "markdown",
   "id": "2df893db-d423-4ef8-ba93-902302399aa7",
   "metadata": {},
   "source": [
    "Use `where` to mask temperature greater than 270K on `ds1`"
   ]
  },
  {
   "cell_type": "code",
   "execution_count": null,
   "id": "3fc2d4b7-0da5-4f33-85f8-bda84b602db0",
   "metadata": {},
   "outputs": [],
   "source": [
    "# TODO"
   ]
  },
  {
   "cell_type": "markdown",
   "id": "90748318-a70c-4ce4-bfeb-fa6cba7fb4a9",
   "metadata": {},
   "source": [
    "Plot masked data"
   ]
  },
  {
   "cell_type": "code",
   "execution_count": null,
   "id": "563efe1f-e1b3-4a85-bfb1-35df72a7e60e",
   "metadata": {},
   "outputs": [],
   "source": [
    "# TODO"
   ]
  },
  {
   "cell_type": "markdown",
   "id": "e1dca4ec-461b-461d-8246-78561112216a",
   "metadata": {},
   "source": [
    "Subtract 100 to masked data by applying `diff` function."
   ]
  },
  {
   "cell_type": "code",
   "execution_count": null,
   "id": "723f8b5a-5d2e-4282-a0f7-2d990fc6b095",
   "metadata": {},
   "outputs": [],
   "source": [
    "# TODO"
   ]
  },
  {
   "cell_type": "code",
   "execution_count": null,
   "id": "c90132fd-3549-44ef-8937-dd5fbdd3f32b",
   "metadata": {},
   "outputs": [],
   "source": []
  }
 ],
 "metadata": {
  "kernelspec": {
   "display_name": "Python 3 (ipykernel)",
   "language": "python",
   "name": "python3"
  },
  "language_info": {
   "codemirror_mode": {
    "name": "ipython",
    "version": 3
   },
   "file_extension": ".py",
   "mimetype": "text/x-python",
   "name": "python",
   "nbconvert_exporter": "python",
   "pygments_lexer": "ipython3",
   "version": "3.12.9"
  }
 },
 "nbformat": 4,
 "nbformat_minor": 5
}
